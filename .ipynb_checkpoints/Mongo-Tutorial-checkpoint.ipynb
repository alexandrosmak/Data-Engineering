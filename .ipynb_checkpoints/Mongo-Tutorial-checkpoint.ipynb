{
 "cells": [
  {
   "cell_type": "markdown",
   "id": "a219be3e-b2fa-4123-a47f-5446bae28dab",
   "metadata": {},
   "source": [
    "# MongoDB & Python\n",
    "\n",
    "- **MongoDB** is a document store database that works with collections containing multiple documents. MongoDB has a master-slave architecture\n",
    "- **Cassandra** is a column-oriented database. Cassandra has a peer-to-peer architecture where all are master nodes in communication with each other."
   ]
  },
  {
   "cell_type": "code",
   "execution_count": 12,
   "id": "b429b652-5fb4-4d46-bc5b-f044e29a265a",
   "metadata": {},
   "outputs": [
    {
     "name": "stdout",
     "output_type": "stream",
     "text": [
      "MongoClient(host=['localhost:27017'], document_class=dict, tz_aware=False, connect=True)\n"
     ]
    }
   ],
   "source": [
    "import pymongo\n",
    "from pymongo import MongoClient\n",
    "client = MongoClient(\n",
    "    host=\"localhost\", #establishes connection to the host (localhost) and port (27017), from docker\n",
    "    username= \"admin\",\n",
    "    password= \"password\",\n",
    "    port=27017)\n",
    "\n",
    "print(client)"
   ]
  },
  {
   "cell_type": "code",
   "execution_count": 16,
   "id": "3d8eaddd-23cc-4f9f-ad67-3ffc4eb51a12",
   "metadata": {},
   "outputs": [
    {
     "name": "stdout",
     "output_type": "stream",
     "text": [
      "{'name': 'admin', 'sizeOnDisk': 102400, 'empty': False}\n",
      "{'name': 'config', 'sizeOnDisk': 110592, 'empty': False}\n",
      "{'name': 'local', 'sizeOnDisk': 73728, 'empty': False}\n"
     ]
    }
   ],
   "source": [
    "for db in client.list_databases():\n",
    "    print(db)"
   ]
  },
  {
   "cell_type": "markdown",
   "id": "88cad9c6-f864-4b72-a96c-f75198dd64dd",
   "metadata": {},
   "source": [
    "## Collection\n",
    "A collection is a grouping of MongoDB documents. Documents within a collection can have different fields. A collection is the equivalent of a table in a relational database system. "
   ]
  },
  {
   "cell_type": "code",
   "execution_count": 22,
   "id": "8b875e87-0b6e-4600-8101-d3d74f838f1d",
   "metadata": {},
   "outputs": [],
   "source": [
    "# Connect to a particular db or if this db does not exist it will create it.\n",
    "my_db = client[\"mydatabase\"] # Important ---> In MongoDB, a database is not created until it gets content!\n",
    "\n",
    "# To create a collection in MongoDB, use database object and specify the name of the collection you want to create.\n",
    "my_col = mydb[\"onecollection\"] # Important ---> In MongoDB, a collection is not created until it gets content!"
   ]
  },
  {
   "cell_type": "markdown",
   "id": "92c1cea4-8670-4a58-9600-2f6a5d9569f3",
   "metadata": {},
   "source": [
    "### Insert"
   ]
  },
  {
   "cell_type": "code",
   "execution_count": 22,
   "id": "2206bf31-a978-428a-a89c-4cef4521a3f3",
   "metadata": {},
   "outputs": [
    {
     "name": "stdout",
     "output_type": "stream",
     "text": [
      "637e68fbcabf95f7f04c0b96\n"
     ]
    }
   ],
   "source": [
    "#To insert a record, or document as it is called in MongoDB, into a collection, we use the insert_one() method.\n",
    "my_record_dict_one = { \"name\": \"John\", \"address\": \"Highway 37\" }\n",
    "insert_result = my_col.insert_one(my_record_dict_one)\n",
    "print(insert_result.inserted_id)"
   ]
  },
  {
   "cell_type": "code",
   "execution_count": 23,
   "id": "900720cd-6877-4656-a217-62be7aaa2215",
   "metadata": {},
   "outputs": [
    {
     "name": "stdout",
     "output_type": "stream",
     "text": [
      "{'name': 'admin', 'sizeOnDisk': 102400, 'empty': False}\n",
      "{'name': 'config', 'sizeOnDisk': 110592, 'empty': False}\n",
      "{'name': 'local', 'sizeOnDisk': 73728, 'empty': False}\n",
      "{'name': 'mydatabase', 'sizeOnDisk': 40960, 'empty': False}\n"
     ]
    }
   ],
   "source": [
    "for db in client.list_databases():\n",
    "    print(db)"
   ]
  },
  {
   "cell_type": "code",
   "execution_count": 47,
   "id": "7091e5d8-fb05-48a5-ad3b-e9f86b5a1e6f",
   "metadata": {},
   "outputs": [
    {
     "name": "stdout",
     "output_type": "stream",
     "text": [
      "{'name': 'onecollection', 'type': 'collection', 'options': {}, 'info': {'readOnly': False, 'uuid': Binary(b'M\\xc1\\x9b\\x0eg\\xf7G\\xc3\\x87\\xa0\\x9e\\x8bs\"\\x8c\\x7f', 4)}, 'idIndex': {'v': 2, 'key': {'_id': 1}, 'name': '_id_'}}\n",
      "keys: ['name', 'type', 'options', 'info', 'idIndex'] ---> values: ['onecollection', 'collection', {}, {'readOnly': False, 'uuid': Binary(b'M\\xc1\\x9b\\x0eg\\xf7G\\xc3\\x87\\xa0\\x9e\\x8bs\"\\x8c\\x7f', 4)}, {'v': 2, 'key': {'_id': 1}, 'name': '_id_'}]\n",
      "onecollection\n",
      "<class 'dict'>\n"
     ]
    }
   ],
   "source": [
    "my_db = client[\"mydatabase\"]\n",
    "for collection in my_db.list_collections():\n",
    "    print(collection)\n",
    "    key_list = list(collection.keys())\n",
    "    values_list = list(collection.values())\n",
    "    print(\"keys:\",key_list,\"---> values:\",values_list)\n",
    "    print(collection['name'])\n",
    "    print(type(collection))"
   ]
  },
  {
   "cell_type": "code",
   "execution_count": null,
   "id": "39dd7de4-a846-4b63-ba66-608de0efeb67",
   "metadata": {},
   "outputs": [],
   "source": [
    "    client = MongoClient(\"localhost\", 27017, maxPoolSize=50)\n",
    "    db = client.localhost\n",
    "    collection = db['chain']\n",
    "    cursor = collection.find({})"
   ]
  },
  {
   "cell_type": "code",
   "execution_count": 51,
   "id": "a30fb8ed-797f-4843-a7c0-c715f7003438",
   "metadata": {},
   "outputs": [
    {
     "name": "stdout",
     "output_type": "stream",
     "text": [
      "{'_id': ObjectId('637e68cbcabf95f7f04c0b95'), 'name': 'John', 'address': 'Highway 37'}\n",
      "{'_id': ObjectId('637e68fbcabf95f7f04c0b96'), 'name': 'John', 'address': 'Highway 37'}\n"
     ]
    }
   ],
   "source": [
    "my_db = client[\"mydatabase\"]\n",
    "my_onecollection = my_db['onecollection']\n",
    "my_cursor = my_onecollection.find({})\n",
    "for document in my_cursor:\n",
    "    print(document)"
   ]
  },
  {
   "cell_type": "markdown",
   "id": "288b8a6d-677c-4723-88c1-cc37ba1544bf",
   "metadata": {},
   "source": [
    "### Return Only Some Fields \n",
    "- Return only the names and the addresses and not the _ids"
   ]
  },
  {
   "cell_type": "code",
   "execution_count": 58,
   "id": "3cc2fa90-b17c-47a5-b586-a91cd4f5ac0b",
   "metadata": {},
   "outputs": [
    {
     "name": "stdout",
     "output_type": "stream",
     "text": [
      "{'name': 'John', 'address': 'Highway 37'}\n",
      "{'name': 'John', 'address': 'Highway 37'}\n"
     ]
    }
   ],
   "source": [
    "my_db = client[\"mydatabase\"]\n",
    "my_onecollection = my_db['onecollection']\n",
    "my_cursor = my_onecollection.find({},{ \"_id\": 0, \"name\": 1, \"address\": 1 }) # 0 not return, 1 return\n",
    "# Important:  If you specify a field with the value 0, all other fields get the value 1, and vice versa:\n",
    "for document in my_cursor:\n",
    "    print(document)"
   ]
  },
  {
   "cell_type": "markdown",
   "id": "64283182-e7f9-4411-8f0f-4cbd7956280f",
   "metadata": {},
   "source": [
    "### Filter the Result\n",
    "- you can filter the result by using a query object"
   ]
  },
  {
   "cell_type": "code",
   "execution_count": 60,
   "id": "9bf7e07d-dc74-4247-bc93-d892a81def9b",
   "metadata": {},
   "outputs": [
    {
     "name": "stdout",
     "output_type": "stream",
     "text": [
      "637e7a37cabf95f7f04c0b97\n"
     ]
    }
   ],
   "source": [
    "my_record_dict_one = { \"name\": \"John\", \"address\": \"Park Lane 38\" }\n",
    "insert_result = my_col.insert_one(my_record_dict_one)\n",
    "print(insert_result.inserted_id)"
   ]
  },
  {
   "cell_type": "code",
   "execution_count": 61,
   "id": "ee942d08-1838-4df2-b221-9b419e74a29d",
   "metadata": {},
   "outputs": [
    {
     "name": "stdout",
     "output_type": "stream",
     "text": [
      "{'_id': ObjectId('637e68cbcabf95f7f04c0b95'), 'name': 'John', 'address': 'Highway 37'}\n",
      "{'_id': ObjectId('637e68fbcabf95f7f04c0b96'), 'name': 'John', 'address': 'Highway 37'}\n",
      "{'_id': ObjectId('637e7a37cabf95f7f04c0b97'), 'name': 'John', 'address': 'Park Lane 38'}\n"
     ]
    }
   ],
   "source": [
    "my_cursor = my_onecollection.find({})\n",
    "for document in my_cursor:\n",
    "    print(document)"
   ]
  },
  {
   "cell_type": "code",
   "execution_count": 62,
   "id": "e5574495-8191-4175-8231-5cae958ac059",
   "metadata": {},
   "outputs": [
    {
     "name": "stdout",
     "output_type": "stream",
     "text": [
      "{'_id': ObjectId('637e7a37cabf95f7f04c0b97'), 'name': 'John', 'address': 'Park Lane 38'}\n"
     ]
    }
   ],
   "source": [
    "my_db = client[\"mydatabase\"]\n",
    "my_onecollection = my_db['onecollection']\n",
    "myquery = { \"address\": \"Park Lane 38\" }\n",
    "my_cursor = my_onecollection.find(myquery) # 0 not return, 1 return\n",
    "# Important:  If you specify a field with the value 0, all other fields get the value 1, and vice versa:\n",
    "for document in my_cursor:\n",
    "    print(document)"
   ]
  },
  {
   "cell_type": "markdown",
   "id": "d6981638-b0fc-4029-89e2-dadd6047c0f2",
   "metadata": {},
   "source": [
    "### Advanced Query\n",
    "- Find documents where the address starts with the letter \"P\" or higher:"
   ]
  },
  {
   "cell_type": "code",
   "execution_count": 65,
   "id": "99066409-c3b7-432d-a018-9fc1803b6e50",
   "metadata": {},
   "outputs": [
    {
     "name": "stdout",
     "output_type": "stream",
     "text": [
      "{'_id': ObjectId('637e7a37cabf95f7f04c0b97'), 'name': 'John', 'address': 'Park Lane 38'}\n"
     ]
    }
   ],
   "source": [
    "my_db = client[\"mydatabase\"]\n",
    "my_onecollection = my_db['onecollection']\n",
    "myquery = { \"address\": { \"$gt\": \"P\" } }\n",
    "my_cursor = my_onecollection.find(myquery) # 0 not return, 1 return\n",
    "# Important:  If you specify a field with the value 0, all other fields get the value 1, and vice versa:\n",
    "for document in my_cursor:\n",
    "    print(document)"
   ]
  },
  {
   "cell_type": "markdown",
   "id": "8b7ed6e5-4dd6-4fa2-aae0-b55adeeb7453",
   "metadata": {},
   "source": [
    "- Find documents where the address starts with the letters \"ar\":"
   ]
  },
  {
   "cell_type": "code",
   "execution_count": 66,
   "id": "127e9707-b5ad-4b5e-8852-569f88e582db",
   "metadata": {},
   "outputs": [
    {
     "name": "stdout",
     "output_type": "stream",
     "text": [
      "{'_id': ObjectId('637e7a37cabf95f7f04c0b97'), 'name': 'John', 'address': 'Park Lane 38'}\n"
     ]
    }
   ],
   "source": [
    "my_db = client[\"mydatabase\"]\n",
    "my_onecollection = my_db['onecollection']\n",
    "myquery = { \"address\": { \"$regex\": \"ar\" } }\n",
    "my_cursor = my_onecollection.find(myquery) # 0 not return, 1 return\n",
    "# Important:  If you specify a field with the value 0, all other fields get the value 1, and vice versa:\n",
    "for document in my_cursor:\n",
    "    print(document)"
   ]
  },
  {
   "cell_type": "markdown",
   "id": "1b8ebc9e-460d-454a-baa6-5f65d5c8cbe2",
   "metadata": {},
   "source": [
    "### Delete Document\n",
    "- delete_one()"
   ]
  },
  {
   "cell_type": "code",
   "execution_count": null,
   "id": "ddc0e78b-58b5-4a76-908d-d6a7e6dff4ae",
   "metadata": {},
   "outputs": [],
   "source": []
  },
  {
   "cell_type": "code",
   "execution_count": 67,
   "id": "285f14b0-5928-472e-998b-58eed52e7956",
   "metadata": {},
   "outputs": [
    {
     "name": "stdout",
     "output_type": "stream",
     "text": [
      "Before Delete one\n",
      "{'_id': ObjectId('637e68cbcabf95f7f04c0b95'), 'name': 'John', 'address': 'Highway 37'}\n",
      "{'_id': ObjectId('637e68fbcabf95f7f04c0b96'), 'name': 'John', 'address': 'Highway 37'}\n",
      "{'_id': ObjectId('637e7a37cabf95f7f04c0b97'), 'name': 'John', 'address': 'Park Lane 38'}\n",
      "After Delete one \n"
     ]
    },
    {
     "data": {
      "text/plain": [
       "<pymongo.results.DeleteResult at 0x7fc920361a30>"
      ]
     },
     "execution_count": 67,
     "metadata": {},
     "output_type": "execute_result"
    }
   ],
   "source": [
    "print(\"Before Delete one\")\n",
    "my_cursor = my_onecollection.find({})\n",
    "for document in my_cursor:\n",
    "    print(document)\n",
    "\n",
    "print(\"After Delete one \")\n",
    "my_db = client[\"mydatabase\"]\n",
    "my_onecollection = my_db['onecollection']\n",
    "myquery = { \"address\": \"Highway 37\" }\n",
    "my_onecollection.delete_one(myquery)"
   ]
  },
  {
   "cell_type": "code",
   "execution_count": 68,
   "id": "04fd64dd-240c-4f2d-b89e-b8acf71a2026",
   "metadata": {},
   "outputs": [
    {
     "name": "stdout",
     "output_type": "stream",
     "text": [
      "{'_id': ObjectId('637e68fbcabf95f7f04c0b96'), 'name': 'John', 'address': 'Highway 37'}\n",
      "{'_id': ObjectId('637e7a37cabf95f7f04c0b97'), 'name': 'John', 'address': 'Park Lane 38'}\n"
     ]
    }
   ],
   "source": [
    "my_cursor = my_onecollection.find({})\n",
    "for document in my_cursor:\n",
    "    print(document)"
   ]
  },
  {
   "cell_type": "markdown",
   "id": "88daec17-e324-4b15-9332-f553c8da933a",
   "metadata": {},
   "source": [
    "- delete_many"
   ]
  },
  {
   "cell_type": "code",
   "execution_count": null,
   "id": "bb6e9a69-832f-4441-8d0d-ea3cd94c9b8d",
   "metadata": {},
   "outputs": [],
   "source": [
    "my_db = client[\"mydatabase\"]\n",
    "my_onecollection = my_db['onecollection']\n",
    "myquery = { \"address\": \"Highway 37\" }\n",
    "x = my_onecollection.delete_many(myquery)\n",
    "print(x.deleted_count, \" documents deleted.\")"
   ]
  },
  {
   "cell_type": "markdown",
   "id": "c2df5205-8270-4db4-9dbc-eb4a0cb9b3be",
   "metadata": {},
   "source": [
    "- To delete all documents in a collection, pass an empty query object to the delete_many() method"
   ]
  },
  {
   "cell_type": "markdown",
   "id": "64653dc1-e1cb-400f-b8f1-d19aa91d335b",
   "metadata": {},
   "source": [
    "### Delete Collection"
   ]
  },
  {
   "cell_type": "code",
   "execution_count": null,
   "id": "a995b329-16c5-4405-b049-844b056353f4",
   "metadata": {},
   "outputs": [],
   "source": [
    "my_db = client[\"mydatabase\"]\n",
    "my_onecollection = my_db['onecollection']\n",
    "my_onecollection.drop()"
   ]
  },
  {
   "cell_type": "markdown",
   "id": "a54a5c6c-c425-4bc5-bba2-1f7c4bb6a91e",
   "metadata": {},
   "source": [
    "### Update Collection"
   ]
  },
  {
   "cell_type": "code",
   "execution_count": null,
   "id": "b04fd2b5-6b8a-45a5-b15b-cd6517ce6f1e",
   "metadata": {},
   "outputs": [],
   "source": [
    "my_db = client[\"mydatabase\"]\n",
    "my_onecollection = my_db['onecollection']\n",
    "myquery = { \"address\": \"Valley 345\" }\n",
    "newvalues = { \"$set\": { \"address\": \"Canyon 123\" } }\n",
    "my_onecollection.update_one(myquery, newvalues)"
   ]
  },
  {
   "cell_type": "code",
   "execution_count": null,
   "id": "a5f379b5-d8e2-4fce-a348-3bfb3f24ca86",
   "metadata": {},
   "outputs": [],
   "source": []
  },
  {
   "cell_type": "code",
   "execution_count": null,
   "id": "c2face1e-a811-4a17-8abd-ada00c05155d",
   "metadata": {},
   "outputs": [],
   "source": []
  },
  {
   "cell_type": "markdown",
   "id": "fa8c732c-0fcc-4d6d-a77d-25afa4e927b7",
   "metadata": {
    "tags": []
   },
   "source": [
    "# Reference\n",
    "\n",
    "- Python+Mongo: https://www.w3schools.com/python/python_mongodb_create_db.asp\n",
    "- Cloud+Python+Mongo tutorial: https://www.youtube.com/watch?v=qWYx5neOh2s\n",
    "- Collections: https://www.mongodb.com/docs/compass/current/collections\n",
    "- Mongo vs Cassandra: https://www.knowledgehut.com/blog/data-science/cassandra-vs-mongodb\n"
   ]
  }
 ],
 "metadata": {
  "kernelspec": {
   "display_name": "Python 3 (ipykernel)",
   "language": "python",
   "name": "python3"
  },
  "language_info": {
   "codemirror_mode": {
    "name": "ipython",
    "version": 3
   },
   "file_extension": ".py",
   "mimetype": "text/x-python",
   "name": "python",
   "nbconvert_exporter": "python",
   "pygments_lexer": "ipython3",
   "version": "3.9.12"
  }
 },
 "nbformat": 4,
 "nbformat_minor": 5
}
